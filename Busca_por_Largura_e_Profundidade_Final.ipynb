{
  "nbformat": 4,
  "nbformat_minor": 0,
  "metadata": {
    "colab": {
      "provenance": []
    },
    "kernelspec": {
      "name": "python3",
      "display_name": "Python 3"
    },
    "language_info": {
      "name": "python"
    }
  },
  "cells": [
    {
      "cell_type": "markdown",
      "source": [
        "#Trabalho I - Inteligencia Artificial -> Busca por Largura e Profundidade."
      ],
      "metadata": {
        "id": "gWayA7kUAgpf"
      }
    },
    {
      "cell_type": "markdown",
      "source": [
        "##Grupo: Dylan Faria Robson, Thiago Baiense Peçanha Viera, Lucas Laranja Alcantra"
      ],
      "metadata": {
        "id": "G9YRAPGfAy5e"
      }
    },
    {
      "cell_type": "markdown",
      "source": [
        "###Mapa com cidades utilizadas:"
      ],
      "metadata": {
        "id": "HjvUNlIzBTPZ"
      }
    },
    {
      "cell_type": "markdown",
      "source": [
        "![picture](https://drive.google.com/uc?export=view&id=1mhL1EzJcmstFbo__ec23h15QwRu63GkH)"
      ],
      "metadata": {
        "id": "vnbahLvp7UXk"
      }
    },
    {
      "cell_type": "markdown",
      "source": [
        "###Tabela com Cidades e Distancias:"
      ],
      "metadata": {
        "id": "3feE5iczJEJ7"
      }
    },
    {
      "cell_type": "markdown",
      "source": [
        "![picture](https://drive.google.com/uc?export=view&id=1wMj1Zx_V8yoAwmlBuqfGq66hqx_q5kG4)"
      ],
      "metadata": {
        "id": "aIhxVfHyIyqo"
      }
    },
    {
      "cell_type": "markdown",
      "source": [
        "###Codigo"
      ],
      "metadata": {
        "id": "Wgy5G-u07hHW"
      }
    },
    {
      "cell_type": "code",
      "source": [
        "# Fila - Returado da Materia de Estrutura de Dados - Saulo\n",
        "\n",
        "class ArrayQueue:\n",
        "    \"\"\"FIFO queue implementation using a Python list as underlying storage.\"\"\"\n",
        "    DEFAULT_CAPACITY = 10          # moderate capacity for all new queues\n",
        "\n",
        "    def __init__(self):\n",
        "        \"\"\"Create an empty queue.\"\"\"\n",
        "        self._data = [None] * ArrayQueue.DEFAULT_CAPACITY\n",
        "        self._size = 0\n",
        "        self._front = 0\n",
        "\n",
        "    def __len__(self):\n",
        "        \"\"\"Return the number of elements in the queue.\"\"\"\n",
        "        return self._size\n",
        "\n",
        "    def is_empty(self):\n",
        "        \"\"\"Return True if the queue is empty.\"\"\"\n",
        "        return self._size == 0\n",
        "\n",
        "    def first(self):\n",
        "        # Return (but do not remove) the element at the front of the queue. Raise Empty exception if the queue is empty.\n",
        "        if self.is_empty():\n",
        "            #raise Empty('Queue is empty')\n",
        "            print('fila vazia')\n",
        "            return None\n",
        "        else:\n",
        "            return self._data[self._front]\n",
        "\n",
        "    def dequeue(self): #Desenfilerar\n",
        "        \"\"\"Remove and return the first element of the queue (i.e., FIFO).\n",
        "\n",
        "        Raise Empty exception if the queue is empty.\n",
        "        \"\"\"\n",
        "        if self.is_empty():\n",
        "            print('fila vazia')\n",
        "            return None  #raise Empty('Queue is empty')\n",
        "        else:\n",
        "            answer = self._data[self._front]\n",
        "            self._data[self._front] = None         # help garbage collection\n",
        "            self._front = (self._front + 1) % len(self._data)\n",
        "            self._size -= 1\n",
        "            return answer\n",
        "\n",
        "    def enqueue(self, e): #Enfileirar\n",
        "        \"\"\"Add an element to the back of queue.\"\"\"\n",
        "        #print('_size={} lendata={}'.format(self._size, len(self._data) ))\n",
        "        if self._size == len(self._data):\n",
        "            self._resize(2 * len(self.data))     # double the array size\n",
        "        avail = (self._front + self._size) % len(self._data)\n",
        "        self._data[avail] = e\n",
        "        self._size += 1\n",
        "\n",
        "    def _resize(self, cap):                  # we assume cap >= len(self)\n",
        "        \"\"\"Resize to a new list of capacity >= len(self).\"\"\"\n",
        "        print('cap = {}'.format(cap))\n",
        "        old = self._data                       # keep track of existing list\n",
        "        self._data = [None] * cap              # allocate list with new capacity\n",
        "        walk = self._front\n",
        "        for k in range(self._size):            # only consider existing elements\n",
        "            self._data[k] = old[walk]            # intentionally shift indices\n",
        "            walk = (1 + walk) % len(old)         # use old size as modulus\n",
        "        self._front = 0                        # front has been realigned\n"
      ],
      "metadata": {
        "id": "jks_G2snobQA"
      },
      "execution_count": null,
      "outputs": []
    },
    {
      "cell_type": "code",
      "source": [
        "# Criação do grafo de cidades e distâncias\n",
        "grafo = {\n",
        "    'Vitória': {'Serra': 19.0, 'Viana': 11.1},\n",
        "    'Viana': {'Guarapari': 35.09, 'Domingos Martins': 23.96},\n",
        "    'Guarapari': {'Viana': 35.09, 'Anchieta': 20.64},\n",
        "    'Anchieta': {'Guarapari': 20.64, 'Itaipava': 15.93},\n",
        "    'Itaipava': {'Anchieta': 15.93, 'Marataízes': 17.08},\n",
        "    'Marataízes': {'Itaipava': 17.08, 'Cachoeiro de Itapemirim': 41.55},\n",
        "    'Cachoeiro de Itapemirim': {'Marataízes': 41.55, 'Cabelo': 27.5},\n",
        "    'Cabelo': {'Cachoeiro de Itapemirim': 27.5, 'Venda Nova do Imigrante': 28.72},\n",
        "    'Venda Nova do Imigrante': {'Cabelo': 28.72, 'Afonso Cláudio': 40.6, 'Arace': 17.24},\n",
        "    'Afonso Cláudio': {'Santa Maria de Jetibá': 40.6, 'Venda Nova do Imigrante': 28.0},\n",
        "    'Santa Maria de Jetibá': {'Serra': 45.57, 'Afonso Cláudio': 40.6, 'Paraju': 33.37},\n",
        "    'Paraju': {'Arace': 23.96, 'Domingos Martins': 17.41, 'Santa Maria de Jetibá': 33.37},\n",
        "    'Domingos Martins': {'Paraju': 17.41, 'Viana': 23.96},\n",
        "    'Serra': {'Vitória': 19.0, 'Santa Maria de Jetibá': 45.57},\n",
        "    'Arace': {'Venda Nova do Imigrante': 17.24, 'Paraju': 23.52}\n",
        "}\n",
        "\n",
        "\n",
        "# Função que implementa a busca cega\n",
        "def busca_cega():\n",
        "  #Função interna\n",
        "  def busca_cega_interno():\n",
        "    #Inputs do codigo\n",
        "    inicio = str(input('Digite o nome da cidade de Origem: '))\n",
        "    objetivo = str(input('Digite o nome da cidade de Destino: '))\n",
        "    opcao = str(input('Digite a opção para resolver o Caminho (\"Profundidade\" ou \"Largura\"): '))\n",
        "\n",
        "    if opcao == \"Profundidade\":\n",
        "      # Pilha que armazena os nós a serem explorados\n",
        "      pilha = [(inicio, [inicio])]\n",
        "\n",
        "      # Caso inicio e fim são iguais\n",
        "      if inicio == objetivo:\n",
        "        (no_atual, caminho) = pilha.pop()\n",
        "        novo_caminho = caminho\n",
        "        return novo_caminho\n",
        "\n",
        "      #Loop principal da busca cega\n",
        "      while pilha:\n",
        "        (no_atual, caminho) = pilha.pop()\n",
        "        for proximo_no in grafo[no_atual]:\n",
        "          # Se o vizinho ainda não foi visitado\n",
        "          if proximo_no not in caminho:\n",
        "            # Adiciona o caminho percorrido até aqui\n",
        "            novo_caminho = caminho + [proximo_no]\n",
        "            if proximo_no == objetivo:\n",
        "              return novo_caminho\n",
        "            else:\n",
        "              pilha.append((proximo_no, novo_caminho))\n",
        "\n",
        "          # Não há um caminho.\n",
        "      return None\n",
        "\n",
        "    elif opcao == \"Largura\":\n",
        "\n",
        "      # Inicializa a fila com o nó de início (fila do Saulo)\n",
        "      fila = ArrayQueue()\n",
        "      fila.enqueue(inicio)\n",
        "\n",
        "      # Dicionário para manter o caminho percorrido\n",
        "      caminho = {inicio: [inicio]}\n",
        "\n",
        "      # Caso inicio e fim são iguais\n",
        "      if inicio == objetivo:\n",
        "        return caminho[inicio]\n",
        "\n",
        "      while fila:\n",
        "        # Remove o próximo nó da fila\n",
        "        no = fila.dequeue()\n",
        "\n",
        "        # Verifica todos os vizinhos do nó atual\n",
        "        for vizinho in grafo[no]:\n",
        "          # Se o vizinho ainda não foi visitado\n",
        "          if vizinho not in caminho:\n",
        "            fila.enqueue(vizinho)\n",
        "            # Adiciona o caminho percorrido até aqui\n",
        "            caminho[vizinho] = caminho[no] + [vizinho]\n",
        "            if vizinho == objetivo:\n",
        "              return caminho[vizinho]\n",
        "\n",
        "        # Não há um caminho.\n",
        "      return None\n",
        "\n",
        "    #Opção escolhida invalida\n",
        "    else:\n",
        "      print('Opção não encontrada;')\n",
        "  #Chamada de função interna\n",
        "  caminho = busca_cega_interno()\n",
        "  if caminho:\n",
        "      print(f\"Caminho encontrado: {caminho}\")\n",
        "      distancia_total = sum([grafo[caminho[i]][caminho[i+1]] for i in range(len(caminho)-1)])\n",
        "      print(f\"Distância total: {distancia_total: .2f} km\")\n",
        "  else:\n",
        "      print(\"Caminho não encontrado.\")"
      ],
      "metadata": {
        "id": "eiBPghmWCXfN"
      },
      "execution_count": null,
      "outputs": []
    },
    {
      "cell_type": "code",
      "source": [
        "#Executar o codigo\n",
        "busca_cega()"
      ],
      "metadata": {
        "id": "kYj-qsBqmh5G",
        "colab": {
          "base_uri": "https://localhost:8080/"
        },
        "outputId": "60e1063a-4b52-431d-cef9-f6355f0e16a4"
      },
      "execution_count": null,
      "outputs": [
        {
          "output_type": "stream",
          "name": "stdout",
          "text": [
            "Digite o nome da cidade de Origem: Serra\n",
            "Digite o nome da cidade de Destino: Viana\n",
            "Digite a opção para resolver o Caminho (\"Profundidade\" ou \"Largura\"): Largura\n",
            "Caminho encontrado: ['Serra', 'Vitória', 'Viana']\n",
            "Distância total:  30.10 km\n"
          ]
        }
      ]
    }
  ]
}